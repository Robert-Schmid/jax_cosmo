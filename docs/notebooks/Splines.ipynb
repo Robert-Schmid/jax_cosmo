{
  "nbformat": 4,
  "nbformat_minor": 0,
  "metadata": {
    "colab": {
      "name": "Splines.ipynb",
      "provenance": [],
      "authorship_tag": "ABX9TyPC24x8qRguSyxNfUjp2V3l",
      "include_colab_link": true
    },
    "kernelspec": {
      "name": "python3",
      "display_name": "Python 3"
    },
    "language_info": {
      "name": "python"
    }
  },
  "cells": [
    {
      "cell_type": "markdown",
      "metadata": {
        "id": "view-in-github",
        "colab_type": "text"
      },
      "source": [
        "<a href=\"https://colab.research.google.com/github/Robert-Schmid/jax_cosmo/blob/master/docs/notebooks/Splines.ipynb\" target=\"_parent\"><img src=\"https://colab.research.google.com/assets/colab-badge.svg\" alt=\"Open In Colab\"/></a>"
      ]
    },
    {
      "cell_type": "code",
      "metadata": {
        "id": "w8yrjZhJY9zQ",
        "outputId": "62170984-be5c-4504-efb9-a3048448a002",
        "colab": {
          "base_uri": "https://localhost:8080/"
        }
      },
      "source": [
        "!git clone https://github.com/Robert-Schmid/jax_cosmo.git"
      ],
      "execution_count": 1,
      "outputs": [
        {
          "output_type": "stream",
          "text": [
            "Cloning into 'jax_cosmo'...\n",
            "remote: Enumerating objects: 1096, done.\u001b[K\n",
            "remote: Counting objects: 100% (174/174), done.\u001b[K\n",
            "remote: Compressing objects: 100% (138/138), done.\u001b[K\n",
            "remote: Total 1096 (delta 93), reused 67 (delta 33), pack-reused 922\u001b[K\n",
            "Receiving objects: 100% (1096/1096), 1.83 MiB | 5.06 MiB/s, done.\n",
            "Resolving deltas: 100% (664/664), done.\n"
          ],
          "name": "stdout"
        }
      ]
    },
    {
      "cell_type": "code",
      "metadata": {
        "id": "noW45_n_aUKi",
        "outputId": "2a10f92c-058a-4c72-b28d-2b66e36fa07c",
        "colab": {
          "base_uri": "https://localhost:8080/"
        }
      },
      "source": [
        "import os, sys\n",
        "os.chdir(\"/content/jax_cosmo/jax_cosmo\" )\n",
        "print(os.getcwd())"
      ],
      "execution_count": 21,
      "outputs": [
        {
          "output_type": "stream",
          "text": [
            "/content/jax_cosmo/jax_cosmo\n"
          ],
          "name": "stdout"
        }
      ]
    },
    {
      "cell_type": "code",
      "metadata": {
        "id": "eeSlR1opZJCF"
      },
      "source": [
        "from scipy import interpolate as sint\n",
        "import jax\n",
        "\n",
        "sys.path.append('/content/jax_cosmo/jax_cosmo/scipy')\n",
        "import interpolate"
      ],
      "execution_count": 31,
      "outputs": []
    },
    {
      "cell_type": "code",
      "metadata": {
        "id": "B56Bkkm6Zrb_",
        "outputId": "e8aea4d8-1458-444f-c920-705753514c91",
        "colab": {
          "base_uri": "https://localhost:8080/"
        }
      },
      "source": [
        "print(\"JAX version:\", jax.__version__)"
      ],
      "execution_count": 32,
      "outputs": [
        {
          "output_type": "stream",
          "text": [
            "JAX version: 0.2.13\n"
          ],
          "name": "stdout"
        }
      ]
    },
    {
      "cell_type": "code",
      "metadata": {
        "id": "_vW1PGB2fYRa"
      },
      "source": [
        "spline = interpolate.InterpolatedUnivariateSpline([1,2,3,4],[0,1,0,3])"
      ],
      "execution_count": 35,
      "outputs": []
    },
    {
      "cell_type": "code",
      "metadata": {
        "id": "YfoX8Xxpgk8t",
        "outputId": "80608179-1586-4603-f7e2-a14d05e0a649",
        "colab": {
          "base_uri": "https://localhost:8080/",
          "height": 265
        }
      },
      "source": [
        "import matplotlib.pyplot as plt\n",
        "t = np.arange(0., 5., 0.2)\n",
        "plt.plot(t,spline(t))\n",
        "plt.show()"
      ],
      "execution_count": 36,
      "outputs": [
        {
          "output_type": "display_data",
          "data": {
            "image/png": "[encoded data removed]",
            "text/plain": [
              "<Figure size 432x288 with 1 Axes>"
            ]
          },
          "metadata": {
            "tags": [],
            "needs_background": "light"
          }
        }
      ]
    }
  ]
}